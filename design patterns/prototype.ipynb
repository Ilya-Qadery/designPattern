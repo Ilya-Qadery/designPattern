{
 "cells": [
  {
   "cell_type": "markdown",
   "id": "79184df89167c128",
   "metadata": {},
   "source": [
    "# 🌀 Prototype Pattern\n",
    "\n",
    "## چرا استفاده می‌شود؟\n",
    "- وقتی ساخت یک شیء **پیچیده یا هزینه‌بر** باشد و بخواهیم یک نسخه‌ی مشابه سریع بسازیم.\n",
    "- وقتی بخواهیم **چند نمونه‌ی مستقل** از یک شیء داشته باشیم بدون اینکه دوباره constructor پیچیده را اجرا کنیم.\n",
    "- مفید برای **سرعت و انعطاف‌پذیری** در تولید اشیاء.\n",
    "\n",
    "---\n",
    "\n",
    "## مثال واقعی (IRL)\n",
    "فرض کن یک بازی داری و می‌خوای چند **هیولا** بسازی:\n",
    "- هر هیولا مدل و ویژگی‌های اولیه دارد (نوع، سلامتی، توانایی‌ها).\n",
    "- ساختن هر هیولا از ابتدا زمان‌بر است.\n",
    "- می‌توان یک **نسخه‌ی آماده (prototype)** ایجاد کرد و هر بار آن را clone کرد، سپس مختصات یا سلامتی را تغییر داد.\n",
    "\n",
    "---\n"
   ]
  },
  {
   "cell_type": "code",
   "execution_count": 1,
   "id": "5eee2a1359be530b",
   "metadata": {
    "ExecuteTime": {
     "end_time": "2025-08-19T07:40:45.850287Z",
     "start_time": "2025-08-19T07:40:45.841431Z"
    }
   },
   "outputs": [
    {
     "name": "stdout",
     "output_type": "stream",
     "text": [
      "Original: Dragon with 300 HP and abilities ['Fire Breath', 'Fly']\n",
      "Shallow Clone: Dragon with 200 HP and abilities ['Fire Breath', 'Fly']\n",
      "Deep Clone: Dragon with 300 HP and abilities ['Fire Breath', 'Fly', 'Ice Breath']\n"
     ]
    }
   ],
   "source": [
    "# 🧩 Python Example: Prototype Pattern\n",
    "import copy\n",
    "\n",
    "# Prototype: Monster\n",
    "class Monster:\n",
    "    def __init__(self, type, health, abilities):\n",
    "        self.type = type\n",
    "        self.health = health\n",
    "        self.abilities = abilities\n",
    "\n",
    "    def __str__(self):\n",
    "        return f\"{self.type} with {self.health} HP and abilities {self.abilities}\"\n",
    "\n",
    "# Original prototype\n",
    "original_dragon = Monster(\"Dragon\", 300, [\"Fire Breath\", \"Fly\"])\n",
    "\n",
    "# Shallow vs Deep clone\n",
    "shallow_clone = copy.copy(original_dragon)  # shallow copy\n",
    "deep_clone = copy.deepcopy(original_dragon) # deep copy\n",
    "\n",
    "# Modify clones\n",
    "shallow_clone.health = 200\n",
    "deep_clone.abilities.append(\"Ice Breath\")\n",
    "\n",
    "# Show results\n",
    "print(\"Original:\", original_dragon)\n",
    "print(\"Shallow Clone:\", shallow_clone)\n",
    "print(\"Deep Clone:\", deep_clone)\n"
   ]
  }
 ],
 "metadata": {
  "kernelspec": {
   "display_name": "Python 3 (ipykernel)",
   "language": "python",
   "name": "python3"
  },
  "language_info": {
   "codemirror_mode": {
    "name": "ipython",
    "version": 3
   },
   "file_extension": ".py",
   "mimetype": "text/x-python",
   "name": "python",
   "nbconvert_exporter": "python",
   "pygments_lexer": "ipython3",
   "version": "3.13.2"
  }
 },
 "nbformat": 4,
 "nbformat_minor": 5
}
