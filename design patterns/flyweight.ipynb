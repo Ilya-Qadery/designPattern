{
 "cells": [
  {
   "metadata": {},
   "cell_type": "markdown",
   "source": [
    "# 🪶 Flyweight Pattern\n",
    "\n",
    "## چرا استفاده می‌شود؟\n",
    "- وقتی تعداد زیادی شیء مشابه داری و **می‌خوای حافظه را بهینه کنی**.\n",
    "- وقتی بخش بزرگی از داده‌ها یا رفتارها **مشترک بین اشیاء است** و نیازی نیست هر بار کپی شود.\n",
    "- Flyweight از **composition/aggregation** برای نگه داشتن حالت مشترک استفاده می‌کند.\n",
    "\n",
    "---\n",
    "\n",
    "## مثال واقعی (IRL)\n",
    "فرض کن یک **شبکه 1000 حسگر Raspberry Pi** داری:\n",
    "- بیشتر حسگرها **پیکربندی و firmware مشابه** دارند.\n",
    "- به جای اینکه این اطلاعات را 1000 بار ذخیره کنی:\n",
    "  - حالت مشترک (intrinsic) → یک Flyweight object\n",
    "  - حالت منحصر به فرد (extrinsic) → هر حسگر فقط داده‌های خودش را نگه می‌دارد\n",
    "- حافظه به شدت بهینه می‌شود و سیستم مقیاس‌پذیر می‌ماند.\n",
    "\n",
    "\n",
    "---"
   ],
   "id": "a47adc9b8835f2ab"
  },
  {
   "cell_type": "code",
   "execution_count": null,
   "id": "initial_id",
   "metadata": {
    "collapsed": true
   },
   "outputs": [],
   "source": [
    "# Python Example: Flyweight Pattern\n",
    "\n",
    "class SensorType:\n",
    "    \"\"\"Flyweight object (shared state)\"\"\"\n",
    "    def __init__(self, model, firmware):\n",
    "        self.model = model\n",
    "        self.firmware = firmware\n",
    "\n",
    "    def display(self, location):\n",
    "        print(f\"Sensor model: {self.model}, firmware: {self.firmware}, at {location}\")\n",
    "\n",
    "# Client objects (extrinsic state)\n",
    "class Sensor:\n",
    "    def __init__(self, sensor_type, location):\n",
    "        self.sensor_type = sensor_type  # shared Flyweight\n",
    "        self.location = location        # unique per sensor\n",
    "\n",
    "    def report(self):\n",
    "        self.sensor_type.display(self.location)\n",
    "\n",
    "# Usage\n",
    "shared_type = SensorType(\"Raspberry Pi 4\", \"v1.2.3\")\n",
    "\n",
    "sensor1 = Sensor(shared_type, \"Lab A\")\n",
    "sensor2 = Sensor(shared_type, \"Lab B\")\n",
    "sensor3 = Sensor(shared_type, \"Warehouse\")\n",
    "\n",
    "for sensor in [sensor1, sensor2, sensor3]:\n",
    "    sensor.report()\n"
   ]
  }
 ],
 "metadata": {
  "kernelspec": {
   "display_name": "Python 3",
   "language": "python",
   "name": "python3"
  },
  "language_info": {
   "codemirror_mode": {
    "name": "ipython",
    "version": 2
   },
   "file_extension": ".py",
   "mimetype": "text/x-python",
   "name": "python",
   "nbconvert_exporter": "python",
   "pygments_lexer": "ipython2",
   "version": "2.7.6"
  }
 },
 "nbformat": 4,
 "nbformat_minor": 5
}
