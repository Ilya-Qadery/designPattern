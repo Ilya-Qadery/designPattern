{
 "cells": [
  {
   "metadata": {},
   "cell_type": "markdown",
   "source": [
    "# 📑 Template Method Pattern\n",
    "\n",
    "## چرا استفاده می‌شود؟\n",
    "- وقتی چند کلاس مختلف داری که **روند کلی مشابه** دارند ولی بعضی مراحلشون فرق می‌کنه.\n",
    "- می‌خوای **اسکلت کلی الگوریتم یکبار نوشته بشه**، و جزئیات در subclass تغییر کنن.\n",
    "- Template Method مثل یک **دستورالعمل اصلی (recipe)** هست که بعضی قسمت‌هاش توسط subclass پر می‌شن.\n",
    "\n",
    "---\n",
    "\n",
    "## مثال واقعی (IRL)\n",
    "فرض کن یک سیستم **پردازش پرداخت** داری:\n",
    "- روند کلی همیشه یکیه:\n",
    "  1. بررسی اطلاعات کارت\n",
    "  2. پرداخت\n",
    "  3. صدور رسید\n",
    "\n",
    "- ولی جزئیات هر مرحله برای **Visa**، **PayPal** یا **Crypto** فرق داره.\n",
    "\n",
    "با Template Method می‌تونی اسکلت کلی پروسه رو تعریف کنی، و فقط بخش‌هایی که فرق دارن در subclass نوشته بشن.\n",
    "\n",
    "---\n"
   ],
   "id": "8ebb33298439818e"
  },
  {
   "cell_type": "code",
   "execution_count": null,
   "id": "initial_id",
   "metadata": {
    "collapsed": true
   },
   "outputs": [],
   "source": [
    "from abc import ABC, abstractmethod\n",
    "\n",
    "# Template (Base Class)\n",
    "class PaymentProcessor(ABC):\n",
    "    def process_payment(self, amount):\n",
    "        \"\"\"Template Method: defines the skeleton of the algorithm\"\"\"\n",
    "        self.validate_payment()\n",
    "        self.make_payment(amount)\n",
    "        self.send_receipt()\n",
    "\n",
    "    @abstractmethod\n",
    "    def validate_payment(self):\n",
    "        pass\n",
    "\n",
    "    @abstractmethod\n",
    "    def make_payment(self, amount):\n",
    "        pass\n",
    "\n",
    "    def send_receipt(self):\n",
    "        print(\"📧 Sending receipt to customer...\")\n",
    "\n",
    "# Subclass 1\n",
    "class VisaPayment(PaymentProcessor):\n",
    "    def validate_payment(self):\n",
    "        print(\"💳 Validating Visa card...\")\n",
    "\n",
    "    def make_payment(self, amount):\n",
    "        print(f\"✅ Paid {amount}$ with Visa.\")\n",
    "\n",
    "# Subclass 2\n",
    "class PayPalPayment(PaymentProcessor):\n",
    "    def validate_payment(self):\n",
    "        print(\"🔑 Logging into PayPal...\")\n",
    "\n",
    "    def make_payment(self, amount):\n",
    "        print(f\"✅ Paid {amount}$ with PayPal.\")\n",
    "\n",
    "# Client code\n",
    "visa = VisaPayment()\n",
    "visa.process_payment(100)\n",
    "\n",
    "print(\"\\n---\\n\")\n",
    "\n",
    "paypal = PayPalPayment()\n",
    "paypal.process_payment(200)\n"
   ]
  }
 ],
 "metadata": {
  "kernelspec": {
   "display_name": "Python 3",
   "language": "python",
   "name": "python3"
  },
  "language_info": {
   "codemirror_mode": {
    "name": "ipython",
    "version": 2
   },
   "file_extension": ".py",
   "mimetype": "text/x-python",
   "name": "python",
   "nbconvert_exporter": "python",
   "pygments_lexer": "ipython2",
   "version": "2.7.6"
  }
 },
 "nbformat": 4,
 "nbformat_minor": 5
}
