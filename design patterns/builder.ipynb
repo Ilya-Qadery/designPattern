{
 "cells": [
  {
   "cell_type": "markdown",
   "id": "ef342af1fa52f904",
   "metadata": {},
   "source": [
    "# 🏗️ Builder Pattern\n",
    "\n",
    "## چرا استفاده می‌شود؟\n",
    "- وقتی ساخت یک شیء **پیچیده** است (چندین مرحله یا بخش مختلف).\n",
    "- وقتی می‌خواهیم با همان روند ساخت، خروجی‌های متفاوت تولید کنیم (مثلاً ماشین اسپرت یا SUV).\n",
    "- وقتی نمی‌خواهیم constructor خیلی شلوغ شود با ده‌ها پارامتر.\n",
    "\n",
    "---\n",
    "\n",
    "## مثال واقعی (IRL)\n",
    "فرض کن داری یک اپلیکیشن **رستوران آنلاین** می‌نویسی:\n",
    "- مشتری می‌تواند یک **پیتزا** سفارش بده.\n",
    "- هر پیتزا می‌تواند سایز، نوع خمیر، نوع پنیر، تعداد تاپینگ‌ها، سس و … داشته باشد.\n",
    "- اگر همه این پارامترها توی constructor باشند، کد خیلی شلوغ و گیج‌کننده می‌شود.\n",
    "\n",
    "---"
   ]
  },
  {
   "cell_type": "code",
   "execution_count": 2,
   "id": "21cab68405bf9e17",
   "metadata": {
    "ExecuteTime": {
     "end_time": "2025-08-19T07:27:04.801731Z",
     "start_time": "2025-08-19T07:27:04.793788Z"
    }
   },
   "outputs": [
    {
     "name": "stdout",
     "output_type": "stream",
     "text": [
      "Pizza(size=Large, crust=Thin, cheese=Mozzarella, toppings=['Mushroom', 'Pepper'], sauce=Tomato)\n"
     ]
    }
   ],
   "source": [
    "# 🧩 Python Example: Pizza Builder\n",
    "\n",
    "# Product\n",
    "class Pizza:\n",
    "    def __init__(self):\n",
    "        self.size = None\n",
    "        self.crust = None\n",
    "        self.cheese = None\n",
    "        self.toppings = []\n",
    "        self.sauce = None\n",
    "\n",
    "    def __str__(self):\n",
    "        return f\"Pizza(size={self.size}, crust={self.crust}, cheese={self.cheese}, toppings={self.toppings}, sauce={self.sauce})\"\n",
    "\n",
    "# Builder\n",
    "class PizzaBuilder:\n",
    "    def __init__(self):\n",
    "        self.pizza = Pizza()\n",
    "\n",
    "    def set_size(self, size):\n",
    "        self.pizza.size = size\n",
    "        return self\n",
    "\n",
    "    def set_crust(self, crust):\n",
    "        self.pizza.crust = crust\n",
    "        return self\n",
    "\n",
    "    def set_cheese(self, cheese):\n",
    "        self.pizza.cheese = cheese\n",
    "        return self\n",
    "\n",
    "    def add_topping(self, topping):\n",
    "        self.pizza.toppings.append(topping)\n",
    "        return self\n",
    "\n",
    "    def set_sauce(self, sauce):\n",
    "        self.pizza.sauce = sauce\n",
    "        return self\n",
    "\n",
    "    def build(self):\n",
    "        return self.pizza\n",
    "\n",
    "# Usage\n",
    "builder = PizzaBuilder()\n",
    "pizza = (builder.set_size(\"Large\")\n",
    "               .set_crust(\"Thin\")\n",
    "               .set_cheese(\"Mozzarella\")\n",
    "               .add_topping(\"Mushroom\")\n",
    "               .add_topping(\"Pepper\")\n",
    "               .set_sauce(\"Tomato\")\n",
    "               .build())\n",
    "\n",
    "print(pizza)\n"
   ]
  }
 ],
 "metadata": {
  "kernelspec": {
   "display_name": "Python 3 (ipykernel)",
   "language": "python",
   "name": "python3"
  },
  "language_info": {
   "codemirror_mode": {
    "name": "ipython",
    "version": 3
   },
   "file_extension": ".py",
   "mimetype": "text/x-python",
   "name": "python",
   "nbconvert_exporter": "python",
   "pygments_lexer": "ipython3",
   "version": "3.13.2"
  }
 },
 "nbformat": 4,
 "nbformat_minor": 5
}
