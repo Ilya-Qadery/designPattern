{
 "cells": [
  {
   "metadata": {},
   "cell_type": "markdown",
   "source": [
    "# 🟢 الگوی تک‌نمونه (Singleton) در پایتون\n",
    "\n",
    "## Singleton چیست؟\n",
    "الگوی طراحی **تک‌نمونه (Singleton)** تضمین می‌کند که از یک کلاس فقط **یک شیء (instance)** ساخته شود\n",
    "و همه‌ی بخش‌های برنامه از همان شیء استفاده کنند.\n",
    "\n",
    "به بیان ساده:\n",
    "- فقط یک بار ساخته می‌شود.\n",
    "- همه‌جا از همان استفاده می‌کنیم.\n",
    "\n",
    "---\n",
    "\n",
    "## چرا استفاده می‌شود؟\n",
    "این الگو زمانی کاربرد دارد که:\n",
    "- نیاز به **منبع واحد و مشترک** داشته باشیم.\n",
    "- ساخت چندین شیء باعث **مشکل یا اتلاف منابع** شود.\n",
    "- بخواهیم **تنظیمات یا اطلاعات مشترک** بین بخش‌های مختلف برنامه یکسان باشد.\n",
    "\n",
    "مثال‌های واقعی:\n",
    "- **ثبت لاگ (Logger)** → همه‌ی بخش‌ها در یک فایل می‌نویسند.\n",
    "- **مدیریت اتصال پایگاه داده** → فقط یک اتصال اصلی مدیریت می‌شود.\n",
    "- **سیستم تنظیمات (Config)** → یک منبع مرکزی برای همه‌ی ماژول‌ها.\n",
    "\n",
    "---\n"
   ],
   "id": "bb53288c01c0f329"
  },
  {
   "metadata": {},
   "cell_type": "code",
   "outputs": [],
   "execution_count": null,
   "source": [
    "# 🟢 پیاده‌سازی ساده Singleton در پایتون\n",
    "\n",
    "class Singleton:\n",
    "    _instance = None  # نگهداری تنها نمونه\n",
    "\n",
    "    def __new__(cls, *args, **kwargs):\n",
    "        if cls._instance is None:   # اگر نمونه‌ای وجود ندارد\n",
    "            cls._instance = super().__new__(cls)  # بساز\n",
    "        return cls._instance        # همیشه همان را برگردان\n",
    "\n",
    "# تست Singleton\n",
    "obj1 = Singleton()\n",
    "obj2 = Singleton()\n",
    "\n",
    "print(\"آیا هر دو یکی هستند؟\", obj1 is obj2)  # True\n"
   ],
   "id": "ecbcaab6893c6ce7"
  },
  {
   "metadata": {},
   "cell_type": "markdown",
   "source": [
    "## مثال پروژه‌ای: مدیریت لاگ (Logger)\n",
    "\n",
    "فرض کنید در یک پروژه بزرگ، چندین ماژول مختلف می‌خواهند لاگ بنویسند.\n",
    "اگر هر کدام فایل جدا باز کنند، مدیریت سخت می‌شود.\n",
    "پس از Singleton استفاده می‌کنیم تا **فقط یک Logger مرکزی** داشته باشیم."
   ],
   "id": "d3029118dffbbda3"
  },
  {
   "metadata": {},
   "cell_type": "code",
   "outputs": [],
   "execution_count": null,
   "source": [
    "# 🟢 مثال پروژه‌ای: Logger به صورت Singleton\n",
    "\n",
    "class Logger:\n",
    "    _instance = None\n",
    "\n",
    "    def __new__(cls, filename=\"app.log\"):\n",
    "        if cls._instance is None:\n",
    "            cls._instance = super().__new__(cls)\n",
    "            cls._instance.filename = filename\n",
    "            cls._instance._file = open(filename, \"a\", encoding=\"utf-8\")\n",
    "        return cls._instance\n",
    "\n",
    "    def log(self, message):\n",
    "        self._file.write(message + \"\\n\")\n",
    "        self._file.flush()\n",
    "\n",
    "# استفاده\n",
    "logger1 = Logger()\n",
    "logger2 = Logger()\n",
    "\n",
    "logger1.log(\"شروع برنامه...\")\n",
    "logger2.log(\"یک رویداد رخ داد!\")\n",
    "\n",
    "print(\"آیا هر دو Logger یکی هستند؟\", logger1 is logger2)  # True\n"
   ],
   "id": "d9050feffd1546a2"
  }
 ],
 "metadata": {
  "kernelspec": {
   "display_name": "Python 3 (ipykernel)",
   "language": "python",
   "name": "python3"
  },
  "language_info": {
   "codemirror_mode": {
    "name": "ipython",
    "version": 3
   },
   "file_extension": ".py",
   "mimetype": "text/x-python",
   "name": "python",
   "nbconvert_exporter": "python",
   "pygments_lexer": "ipython3",
   "version": "3.13.2"
  }
 },
 "nbformat": 4,
 "nbformat_minor": 5
}
