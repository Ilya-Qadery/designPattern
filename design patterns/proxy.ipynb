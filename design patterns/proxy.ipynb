{
 "cells": [
  {
   "metadata": {},
   "cell_type": "markdown",
   "source": [
    "# 🛡 Proxy Pattern\n",
    "\n",
    "## چرا استفاده می‌شود؟\n",
    "- وقتی می‌خوای **دسترسی به یک شیء سنگین یا حساس** رو کنترل کنی.\n",
    "- وقتی نیاز داری **cache یا lazy loading** اضافه کنی.\n",
    "- وقتی می‌خوای **امنیت یا لاگ‌برداری** قبل از دسترسی واقعی انجام بشه.\n",
    "- Proxy مثل یک **نگهبان یا واسطه** بین Client و Real Object عمل می‌کنه.\n",
    "\n",
    "---\n",
    "\n",
    "## مثال واقعی (IRL)\n",
    "فرض کن یک سیستم **پرداخت آنلاین** داری:\n",
    "- هر بار که کاربر مانده حسابش رو می‌بینه، نیاز نیست کل دیتابیس بانکی query بشه.\n",
    "- Proxy می‌تونه آخرین **مقدار cache شده** رو برگردونه، مگر اینکه زمان اعتبار cache تموم شده باشه.\n",
    "- یا فرض کن Proxy جلوی هر request می‌ایسته و **بررسی می‌کنه کاربر مجازه یا نه** (مثل یک firewall).\n",
    "\n",
    "---"
   ],
   "id": "9c8283be488aa091"
  },
  {
   "metadata": {},
   "cell_type": "code",
   "outputs": [],
   "execution_count": null,
   "source": [
    "class BankAccount:\n",
    "    def __init__(self, balance=0):\n",
    "        self.balance = balance\n",
    "\n",
    "    def get_balance(self):\n",
    "        print(\"🔍 Querying the real database...\")\n",
    "        return self.balance\n",
    "\n",
    "# Proxy\n",
    "class BankAccountProxy:\n",
    "    def __init__(self, real_account):\n",
    "        self.real_account = real_account\n",
    "        self._cache = None\n",
    "\n",
    "    def get_balance(self):\n",
    "        if self._cache is None:\n",
    "            print(\"💾 Cache miss! Fetching from real account...\")\n",
    "            self._cache = self.real_account.get_balance()\n",
    "        else:\n",
    "            print(\"⚡ Returning cached balance\")\n",
    "        return self._cache\n",
    "\n",
    "# Client code\n",
    "real_account = BankAccount(5000)\n",
    "proxy = BankAccountProxy(real_account)\n",
    "\n",
    "print(proxy.get_balance())  # اول بار از دیتابیس واقعی\n",
    "print(proxy.get_balance())  # بار دوم از cache\n",
    "\n"
   ],
   "id": "64d6151e07704ab0"
  }
 ],
 "metadata": {
  "kernelspec": {
   "display_name": "Python 3",
   "language": "python",
   "name": "python3"
  },
  "language_info": {
   "codemirror_mode": {
    "name": "ipython",
    "version": 2
   },
   "file_extension": ".py",
   "mimetype": "text/x-python",
   "name": "python",
   "nbconvert_exporter": "python",
   "pygments_lexer": "ipython2",
   "version": "2.7.6"
  }
 },
 "nbformat": 4,
 "nbformat_minor": 5
}
