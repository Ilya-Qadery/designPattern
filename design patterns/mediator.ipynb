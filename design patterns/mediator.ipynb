{
 "cells": [
  {
   "metadata": {},
   "cell_type": "markdown",
   "source": [
    "# 🧩 Mediator Pattern\n",
    "\n",
    "## چرا استفاده می‌شود؟\n",
    "- وقتی چندین شیء باید با هم تعامل داشته باشند اما نمی‌خوای مستقیم همدیگه رو صدا بزنن.\n",
    "- Mediator باعث میشه وابستگی‌ها (dependencies) کم بشن.\n",
    "- همه ارتباط‌ها از طریق یک \"مرکز کنترل\" یا \"چت‌روم\" می‌گذره.\n",
    "\n",
    "---\n"
   ],
   "id": "872a5ec6d6843717"
  },
  {
   "metadata": {},
   "cell_type": "markdown",
   "source": [
    "## مثال واقعی (IRL)\n",
    "مثل یک گروه واتس‌اپ:\n",
    "- اعضا (User ها) مستقیم به هم پیام نمی‌دن.\n",
    "- پیام رو به گروه (Mediator) می‌فرستن.\n",
    "- Mediator (گروه) تصمیم می‌گیره پیام برای چه کسی پخش بشه.\n",
    "\n",
    "---"
   ],
   "id": "f69d232b4df7df85"
  },
  {
   "cell_type": "code",
   "execution_count": null,
   "id": "initial_id",
   "metadata": {
    "collapsed": true
   },
   "outputs": [],
   "source": [
    "# Mediator\n",
    "class ChatRoom:\n",
    "    def show_message(self, user, message):\n",
    "        print(f\"[{user}] says: {message}\")\n",
    "\n",
    "\n",
    "# Colleague classes\n",
    "class User:\n",
    "    def __init__(self, name, chatroom):\n",
    "        self.name = name\n",
    "        self.chatroom = chatroom\n",
    "\n",
    "    def send(self, message):\n",
    "        self.chatroom.show_message(self.name, message)\n",
    "\n",
    "\n",
    "# Client code\n",
    "chatroom = ChatRoom()\n",
    "\n",
    "user1 = User(\"Alice\", chatroom)\n",
    "user2 = User(\"Bob\", chatroom)\n",
    "\n",
    "user1.send(\"Hey Bob, how are you?\")\n",
    "user2.send(\"I’m fine Alice, thanks!\")\n"
   ]
  }
 ],
 "metadata": {
  "kernelspec": {
   "display_name": "Python 3",
   "language": "python",
   "name": "python3"
  },
  "language_info": {
   "codemirror_mode": {
    "name": "ipython",
    "version": 2
   },
   "file_extension": ".py",
   "mimetype": "text/x-python",
   "name": "python",
   "nbconvert_exporter": "python",
   "pygments_lexer": "ipython2",
   "version": "2.7.6"
  }
 },
 "nbformat": 4,
 "nbformat_minor": 5
}
