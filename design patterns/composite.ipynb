{
 "cells": [
  {
   "cell_type": "markdown",
   "id": "92b66fbfc1109587",
   "metadata": {},
   "source": [
    "# 🌳 Composite Pattern\n",
    "\n",
    "## چرا استفاده می‌شود؟\n",
    "- وقتی می‌خواهیم **اشیاء منفرد و گروهی از اشیاء را یکسان مدیریت کنیم**.\n",
    "- Parent (Composite) **فقط نگه می‌دارد و delegate می‌کند**، و **child / leaf واقعاً کار را انجام می‌دهد**.\n",
    "- مشابه ساختار درختی یا فولدر و فایل‌ها.\n",
    "\n",
    "---\n",
    "\n",
    "## مثال واقعی (IRL)\n",
    "- فرض کن یک **UI system** داریم:\n",
    "  - Leaf: Button\n",
    "  - Composite: Panel (می‌تواند Button یا Panel دیگر داشته باشد)\n",
    "- وقتی `render()` را روی Panel بالا فراخوانی می‌کنیم، تمام زیرمجموعه‌ها به طور خودکار اجرا می‌شوند، بدون نیاز به مدیریت جداگانه هر Button.\n",
    "\n",
    "---\n"
   ]
  },
  {
   "cell_type": "code",
   "execution_count": null,
   "id": "8adf3e2dd647a9f7",
   "metadata": {},
   "outputs": [],
   "source": [
    "from abc import ABC, abstractmethod\n",
    "\n",
    "# Component\n",
    "class UIComponent(ABC):\n",
    "    @abstractmethod\n",
    "    def render(self):\n",
    "        pass\n",
    "\n",
    "# Leaf\n",
    "class Button(UIComponent):\n",
    "    def __init__(self, name):\n",
    "        self.name = name\n",
    "\n",
    "    def render(self):\n",
    "        print(f\"Rendering Button: {self.name}\")\n",
    "\n",
    "# Composite\n",
    "class Panel(UIComponent):\n",
    "    def __init__(self, name):\n",
    "        self.name = name\n",
    "        self.children = []\n",
    "\n",
    "    def add(self, component):\n",
    "        self.children.append(component)\n",
    "\n",
    "    def render(self):\n",
    "        print(f\"Rendering Panel: {self.name}\")\n",
    "        for child in self.children:\n",
    "            child.render()\n",
    "\n",
    "# Usage (parent delegates, child executes)\n",
    "btn1 = Button(\"OK\")\n",
    "btn2 = Button(\"Cancel\")\n",
    "main_panel = Panel(\"MainPanel\")\n",
    "main_panel.add(btn1)\n",
    "main_panel.add(btn2)\n",
    "\n",
    "sub_panel = Panel(\"SubPanel\")\n",
    "sub_panel.add(Button(\"Apply\"))\n",
    "main_panel.add(sub_panel)\n",
    "\n",
    "main_panel.render()\n"
   ]
  }
 ],
 "metadata": {
  "kernelspec": {
   "display_name": "Python 3 (ipykernel)",
   "language": "python",
   "name": "python3"
  },
  "language_info": {
   "codemirror_mode": {
    "name": "ipython",
    "version": 3
   },
   "file_extension": ".py",
   "mimetype": "text/x-python",
   "name": "python",
   "nbconvert_exporter": "python",
   "pygments_lexer": "ipython3",
   "version": "3.13.2"
  }
 },
 "nbformat": 4,
 "nbformat_minor": 5
}
