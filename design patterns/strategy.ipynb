{
 "cells": [
  {
   "metadata": {},
   "cell_type": "markdown",
   "source": [
    "# 🎯 Strategy Pattern\n",
    "\n",
    "## چرا استفاده می‌شود؟\n",
    "- وقتی می‌خوای **رفتار یک شیء را در زمان اجرا انتخاب کنی**.\n",
    "- هر الگوریتم یا رفتار = یک **Handler جداگانه**.\n",
    "- شیء اصلی فقط **Handler فعلی را صدا می‌زند** و کاری به جزئیات ندارد.\n",
    "\n",
    "---"
   ],
   "id": "1c5ba067e4580cd4"
  },
  {
   "metadata": {},
   "cell_type": "markdown",
   "source": [
    "## مثال واقعی (IRL)\n",
    "فرض کن یک **فروشگاه آنلاین** داری:\n",
    "- مشتری می‌تواند **روش پرداخت متفاوتی** انتخاب کند: Credit Card, PayPal, یا Bitcoin.\n",
    "- هر روش = یک **Handler برای رفتار پرداخت**.\n",
    "- فروشگاه فقط می‌گوید: “پرداخت را انجام بده”، و **استراتژی انتخاب شده تصمیم می‌گیرد چگونه پرداخت شود**.\n",
    "\n",
    "---"
   ],
   "id": "451be65b3ce69d12"
  },
  {
   "cell_type": "code",
   "execution_count": null,
   "id": "initial_id",
   "metadata": {
    "collapsed": true
   },
   "outputs": [],
   "source": [
    "# Strategy Handlers\n",
    "class CreditCardPayment:\n",
    "    def pay(self, amount):\n",
    "        print(f\"💳 Paying ${amount} using Credit Card\")\n",
    "\n",
    "class PayPalPayment:\n",
    "    def pay(self, amount):\n",
    "        print(f\"🅿️ Paying ${amount} using PayPal\")\n",
    "\n",
    "class BitcoinPayment:\n",
    "    def pay(self, amount):\n",
    "        print(f\"₿ Paying ${amount} using Bitcoin\")\n",
    "\n",
    "\n",
    "# Context\n",
    "class PaymentProcessor:\n",
    "    def __init__(self, strategy):\n",
    "        self.strategy = strategy\n",
    "\n",
    "    def set_strategy(self, strategy):\n",
    "        self.strategy = strategy\n",
    "\n",
    "    def pay(self, amount):\n",
    "        self.strategy.pay(amount)\n",
    "\n",
    "\n",
    "# Client code\n",
    "processor = PaymentProcessor(CreditCardPayment())\n",
    "processor.pay(100)  # 💳 Paying $100 using Credit Card\n",
    "\n",
    "processor.set_strategy(PayPalPayment())\n",
    "processor.pay(200)  # 🅿️ Paying $200 using PayPal\n",
    "\n",
    "processor.set_strategy(BitcoinPayment())\n",
    "processor.pay(300)  # ₿ Paying $300 using Bitcoin\n"
   ]
  }
 ],
 "metadata": {
  "kernelspec": {
   "display_name": "Python 3",
   "language": "python",
   "name": "python3"
  },
  "language_info": {
   "codemirror_mode": {
    "name": "ipython",
    "version": 2
   },
   "file_extension": ".py",
   "mimetype": "text/x-python",
   "name": "python",
   "nbconvert_exporter": "python",
   "pygments_lexer": "ipython2",
   "version": "2.7.6"
  }
 },
 "nbformat": 4,
 "nbformat_minor": 5
}
