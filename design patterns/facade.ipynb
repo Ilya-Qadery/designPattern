{
 "cells": [
  {
   "metadata": {},
   "cell_type": "markdown",
   "source": [
    "# 🏛 Facade Pattern\n",
    "\n",
    "## چرا استفاده می‌شود؟\n",
    "- وقتی سیستم پیچیده‌ای داری که شامل **چندین کلاس و زیرسیستم** است.\n",
    "- وقتی می‌خوای **کلاینت فقط با یک رابط ساده** کار کنه و نیازی به مدیریت همه جزئیات نباشه.\n",
    "- Facade مثل یک **دستگاه کنترل از راه دور** برای سیستم پیچیده عمل می‌کند.\n",
    "\n",
    "---\n",
    "\n",
    "## مثال واقعی (IRL)\n",
    "فرض کن یک **فروشگاه آنلاین B2B** داری:\n",
    "- زیرسیستم‌ها: Inventory (موجودی)، Payment (پرداخت)، Shipping (ارسال)\n",
    "- Facade: `OrderFacade`\n",
    "  - با یک تابع `place_order()` همه عملیات لازم را انجام می‌دهد.\n",
    "- کلاینت فقط با Facade کار می‌کند و نیازی نیست **با هر زیرسیستم جداگانه تعامل داشته باشد**.\n",
    "\n",
    "---"
   ],
   "id": "fae67e3ebfbc6ddf"
  },
  {
   "cell_type": "code",
   "execution_count": null,
   "id": "initial_id",
   "metadata": {
    "collapsed": true
   },
   "outputs": [],
   "source": [
    "# 🧩 Python Example: Facade Pattern\n",
    "\n",
    "# Subsystem classes\n",
    "class Inventory:\n",
    "    def check_stock(self, item):\n",
    "        print(f\"Checking stock for {item}\")\n",
    "\n",
    "class Payment:\n",
    "    def process_payment(self, amount):\n",
    "        print(f\"Processing payment of ${amount}\")\n",
    "\n",
    "class Shipping:\n",
    "    def ship_item(self, item):\n",
    "        print(f\"Shipping {item}\")\n",
    "\n",
    "# Facade\n",
    "class OrderFacade:\n",
    "    def __init__(self):\n",
    "        self.inventory = Inventory()\n",
    "        self.payment = Payment()\n",
    "        self.shipping = Shipping()\n",
    "\n",
    "    def place_order(self, item, amount):\n",
    "        self.inventory.check_stock(item)\n",
    "        self.payment.process_payment(amount)\n",
    "        self.shipping.ship_item(item)\n",
    "        print(\"Order placed successfully!\")\n",
    "\n",
    "# Usage (client only sees the Facade)\n",
    "order = OrderFacade()\n",
    "order.place_order(\"Laptop\", 1500)\n"
   ]
  }
 ],
 "metadata": {
  "kernelspec": {
   "display_name": "Python 3",
   "language": "python",
   "name": "python3"
  },
  "language_info": {
   "codemirror_mode": {
    "name": "ipython",
    "version": 2
   },
   "file_extension": ".py",
   "mimetype": "text/x-python",
   "name": "python",
   "nbconvert_exporter": "python",
   "pygments_lexer": "ipython2",
   "version": "2.7.6"
  }
 },
 "nbformat": 4,
 "nbformat_minor": 5
}
