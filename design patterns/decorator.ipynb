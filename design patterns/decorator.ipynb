{
 "cells": [
  {
   "metadata": {},
   "cell_type": "markdown",
   "source": [
    "# 🎁 Decorator Pattern\n",
    "\n",
    "## چرا استفاده می‌شود؟\n",
    "- برای **افزودن رفتار به یک شیء به صورت داینامیک** بدون تغییر کلاس اصلی.\n",
    "- از **composition (aggresion)** استفاده می‌کند: decorator **یک شیء دیگر را درون خود نگه می‌دارد** و رفتار اضافی اضافه می‌کند.\n",
    "\n",
    "---\n",
    "\n",
    "## مثال واقعی (IRL)\n",
    "- سیستم نوتیفیکیشن که می‌تواند پیام را از طریق **ایمیل، پیامک، یا Push** ارسال کند.\n",
    "- به جای ساخت چندین کلاس با inheritance، هر نوع ارسال به صورت decorator اضافه می‌شود.\n",
    "\n",
    "---\n"
   ],
   "id": "cb3af0a6e3df1036"
  },
  {
   "metadata": {},
   "cell_type": "code",
   "outputs": [],
   "execution_count": null,
   "source": [
    "# Base component\n",
    "class Notification:\n",
    "    def send(self, message):\n",
    "        print(f\"Sending basic notification: {message}\")\n",
    "\n",
    "# Decorators\n",
    "class EmailDecorator:\n",
    "    def __init__(self, notification):\n",
    "        self.notification = notification\n",
    "\n",
    "    def send(self, message):\n",
    "        self.notification.send(message)\n",
    "        print(f\"Sending Email: {message}\")\n",
    "\n",
    "class SMSDecorator:\n",
    "    def __init__(self, notification):\n",
    "        self.notification = notification\n",
    "\n",
    "    def send(self, message):\n",
    "        self.notification.send(message)\n",
    "        print(f\"Sending SMS: {message}\")\n",
    "\n",
    "class PushDecorator:\n",
    "    def __init__(self, notification):\n",
    "        self.notification = notification\n",
    "\n",
    "    def send(self, message):\n",
    "        self.notification.send(message)\n",
    "        print(f\"Sending Push: {message}\")\n",
    "\n",
    "# Usage\n",
    "notif = Notification()\n",
    "notif = EmailDecorator(notif)\n",
    "notif = SMSDecorator(notif)\n",
    "notif = PushDecorator(notif)\n",
    "\n",
    "notif.send(\"Hello, world!\")\n"
   ],
   "id": "977d159969a35a66"
  }
 ],
 "metadata": {
  "kernelspec": {
   "display_name": "Python 3",
   "language": "python",
   "name": "python3"
  },
  "language_info": {
   "codemirror_mode": {
    "name": "ipython",
    "version": 2
   },
   "file_extension": ".py",
   "mimetype": "text/x-python",
   "name": "python",
   "nbconvert_exporter": "python",
   "pygments_lexer": "ipython2",
   "version": "2.7.6"
  }
 },
 "nbformat": 4,
 "nbformat_minor": 5
}
