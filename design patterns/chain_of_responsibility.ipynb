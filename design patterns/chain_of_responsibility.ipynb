{
 "cells": [
  {
   "metadata": {},
   "cell_type": "markdown",
   "source": [
    "# 🔗 Chain of Responsibility Pattern\n",
    "\n",
    "## چرا استفاده می‌شود؟\n",
    "- وقتی می‌خوای **درخواست‌ها را بدون دانستن گیرنده نهایی، بین چند handler منتقل کنی**.\n",
    "- وقتی نیاز داری **چند مرحله پردازش داشته باشی و هر مرحله بتواند تصمیم بگیرد** که درخواست را انجام دهد یا به مرحله بعد بفرستد.\n",
    "- وقتی می‌خوای **انعطاف‌پذیری بالایی در مدیریت خطا یا عملیات زنجیره‌ای** داشته باشی.\n",
    "- CoR مثل یک **زنجیره از نگهبان‌ها یا مسئول‌ها** عمل می‌کنه که هرکدوم تصمیم می‌گیرند اجازه عبور بدهند یا نه.\n",
    "\n",
    "## مثال واقعی (IRL)\n",
    "فرض کن یک سیستم **پشتیبانی مشتری** داری:\n",
    "- یک درخواست کاربر وارد سیستم می‌شود.\n",
    "- اولین handler می‌تواند آن را پاسخ دهد (مثلاً سوالات ساده FAQ).\n",
    "- اگر نتوانست پاسخ دهد، درخواست به handler بعدی می‌رود (مثلاً پشتیبانی سطح یک).\n",
    "- اگر هنوز حل نشد، به handler بعدی می‌رود (پشتیبانی سطح دو یا مدیر).\n",
    "\n",
    "هر handler **مسئول تصمیم‌گیری درباره درخواست** خودش است و اگر نتوانست، آن را به بعدی منتقل می‌کند.\n",
    "\n"
   ],
   "id": "d133839fc1770e58"
  },
  {
   "cell_type": "code",
   "id": "initial_id",
   "metadata": {
    "collapsed": true,
    "ExecuteTime": {
     "end_time": "2025-08-19T13:34:58.209497Z",
     "start_time": "2025-08-19T13:34:58.201208Z"
    }
   },
   "source": [
    "# Handler پایه\n",
    "class Handler:\n",
    "    def __init__(self, successor=None):\n",
    "        self.successor = successor  # بعدی در زنجیره\n",
    "\n",
    "    def handle(self, request):\n",
    "        if self.successor:\n",
    "            return self.successor.handle(request)\n",
    "        return None\n",
    "\n",
    "# Handlerهای خاص\n",
    "class FAQHandler(Handler):\n",
    "    def handle(self, request):\n",
    "        if request == \"سوال ساده\":\n",
    "            print(\"✅ پاسخ توسط FAQ داده شد!\")\n",
    "        else:\n",
    "            print(\"➡️ پاس نشد، ارسال به handler بعدی\")\n",
    "            super().handle(request)\n",
    "\n",
    "class LevelOneSupportHandler(Handler):\n",
    "    def handle(self, request):\n",
    "        if request == \"مشکل سطح یک\":\n",
    "            print(\"🛠 پاسخ توسط پشتیبانی سطح یک داده شد!\")\n",
    "        else:\n",
    "            print(\"➡️ پاس نشد، ارسال به handler بعدی\")\n",
    "            super().handle(request)\n",
    "\n",
    "class ManagerHandler(Handler):\n",
    "    def handle(self, request):\n",
    "        print(\"👨‍💼 پاسخ نهایی توسط مدیر داده شد!\")\n",
    "\n",
    "# زنجیره ایجاد می‌شود\n",
    "chain = FAQHandler(LevelOneSupportHandler(ManagerHandler()))\n"
   ],
   "outputs": [],
   "execution_count": 1
  }
 ],
 "metadata": {
  "kernelspec": {
   "display_name": "Python 3",
   "language": "python",
   "name": "python3"
  },
  "language_info": {
   "codemirror_mode": {
    "name": "ipython",
    "version": 2
   },
   "file_extension": ".py",
   "mimetype": "text/x-python",
   "name": "python",
   "nbconvert_exporter": "python",
   "pygments_lexer": "ipython2",
   "version": "2.7.6"
  }
 },
 "nbformat": 4,
 "nbformat_minor": 5
}
