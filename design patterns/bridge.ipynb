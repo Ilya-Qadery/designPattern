{
 "cells": [
  {
   "cell_type": "markdown",
   "id": "8a1cf3ced101b864",
   "metadata": {},
   "source": [
    "# 🌉 Bridge Pattern\n",
    "\n",
    "## چرا استفاده می‌شود؟\n",
    "- برای **جدا کردن abstraction از implementation** تا هر دو بتوانند مستقل تغییر کنند.\n",
    "- وقتی می‌خواهیم **دو لایه یا سیستم متفاوت را بدون وابستگی مستقیم بهم وصل کنیم**.\n",
    "- Bridge مثل **کنترلر یا مترجم بین دو سیستم** عمل می‌کند.\n",
    "\n",
    "---\n",
    "\n",
    "## مثال واقعی (IRL)\n",
    "فرض کن یک **سیستم بانکی** داری:\n",
    "- Abstraction: `Client`\n",
    "- Implementation: `Bank`\n",
    "- Bridge: یک کلاس کنترلر که **به Client اجازه می‌دهد حساب باز کند** بدون اینکه بداند بانک چگونه حساب‌ها را مدیریت می‌کند.\n",
    "- این امکان را می‌دهد که Client جدید یا Bank جدید اضافه شود بدون تغییر کد Bridge.\n",
    "\n",
    "---\n"
   ]
  },
  {
   "cell_type": "code",
   "execution_count": null,
   "id": "8b6c27e0f0ec459d",
   "metadata": {},
   "outputs": [],
   "source": [
    "# 🧩 Python Example: Bridge Pattern\n",
    "\n",
    "# Implementor\n",
    "class Bank:\n",
    "    def open_account(self, client_name):\n",
    "        print(f\"Opening account for {client_name} in {self.__class__.__name__}\")\n",
    "\n",
    "class BankA(Bank):\n",
    "    pass\n",
    "\n",
    "class BankB(Bank):\n",
    "    pass\n",
    "\n",
    "# Abstraction\n",
    "class Client:\n",
    "    def __init__(self, name, bank_bridge):\n",
    "        self.name = name\n",
    "        self.bank_bridge = bank_bridge\n",
    "\n",
    "    def create_account(self):\n",
    "        self.bank_bridge.open_account(self.name)\n",
    "\n",
    "# Usage (Bridge in action)\n",
    "bank_a = BankA()\n",
    "bank_b = BankB()\n",
    "\n",
    "client1 = Client(\"Alice\", bank_a)\n",
    "client2 = Client(\"Bob\", bank_b)\n",
    "\n",
    "client1.create_account()  # Opening account for Alice in BankA\n",
    "client2.create_account()  # Opening account for Bob in BankB\n"
   ]
  }
 ],
 "metadata": {
  "kernelspec": {
   "display_name": "Python 3 (ipykernel)",
   "language": "python",
   "name": "python3"
  },
  "language_info": {
   "codemirror_mode": {
    "name": "ipython",
    "version": 3
   },
   "file_extension": ".py",
   "mimetype": "text/x-python",
   "name": "python",
   "nbconvert_exporter": "python",
   "pygments_lexer": "ipython3",
   "version": "3.13.2"
  }
 },
 "nbformat": 4,
 "nbformat_minor": 5
}
