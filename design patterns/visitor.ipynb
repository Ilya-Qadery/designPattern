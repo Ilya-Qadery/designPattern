{
 "cells": [
  {
   "metadata": {},
   "cell_type": "markdown",
   "source": [
    "# 🧳 Visitor Pattern\n",
    "\n",
    "## چرا استفاده می‌شود؟\n",
    "- وقتی نمی‌تونی کلاس‌های اصلی رو تغییر بدی (Production یا Third-Party).\n",
    "- وقتی می‌خوای رفتار جدید اضافه کنی بدون تغییر ساختار.\n",
    "- Visitor به عنوان یک \"ابزار جانبی\" میاد و روی اشیاء عملیات جدید انجام می‌ده.\n",
    "\n",
    "---\n",
    "\n",
    "## 🌍 مثال واقعی\n",
    "فروشگاه آنلاین:\n",
    "- کلاس‌های اصلی `Product`, `Book`, `Electronics` از قبل وجود دارن.\n",
    "- می‌خوای عملیات جدید مثل محاسبه مالیات یا نمایش تخفیف ویژه رو اضافه کنی.\n",
    "- Visitor می‌سازیم و عملیات جدید رو روی اون‌ها اعمال می‌کنیم.\n",
    "\n",
    "---"
   ],
   "id": "d382f06a938e31bf"
  },
  {
   "metadata": {},
   "cell_type": "code",
   "outputs": [],
   "execution_count": null,
   "source": [
    "# Existing classes (can't modify them in production)\n",
    "class Product:\n",
    "    def accept(self, visitor):\n",
    "        visitor.visit_product(self)\n",
    "\n",
    "class Book(Product):\n",
    "    def accept(self, visitor):\n",
    "        visitor.visit_book(self)\n",
    "\n",
    "class Electronics(Product):\n",
    "    def accept(self, visitor):\n",
    "        visitor.visit_electronics(self)\n",
    "\n",
    "# Visitor interface\n",
    "class Visitor:\n",
    "    def visit_product(self, product):\n",
    "        pass\n",
    "\n",
    "    def visit_book(self, book):\n",
    "        pass\n",
    "\n",
    "    def visit_electronics(self, electronics):\n",
    "        pass\n",
    "\n",
    "# Concrete Visitor: TaxCalculator\n",
    "class TaxCalculator(Visitor):\n",
    "    def visit_product(self, product):\n",
    "        print(\"📦 General product tax: 10%\")\n",
    "\n",
    "    def visit_book(self, book):\n",
    "        print(\"📚 Books are tax-free!\")\n",
    "\n",
    "    def visit_electronics(self, electronics):\n",
    "        print(\"💻 Electronics tax: 20%\")\n",
    "\n",
    "# Client code\n",
    "items = [Book(), Electronics(), Product()]\n",
    "tax_visitor = TaxCalculator()\n",
    "\n",
    "for item in items:\n",
    "    item.accept(tax_visitor)\n"
   ],
   "id": "faf5e89f362b1e58"
  }
 ],
 "metadata": {
  "kernelspec": {
   "display_name": "Python 3",
   "language": "python",
   "name": "python3"
  },
  "language_info": {
   "codemirror_mode": {
    "name": "ipython",
    "version": 2
   },
   "file_extension": ".py",
   "mimetype": "text/x-python",
   "name": "python",
   "nbconvert_exporter": "python",
   "pygments_lexer": "ipython2",
   "version": "2.7.6"
  }
 },
 "nbformat": 4,
 "nbformat_minor": 5
}
