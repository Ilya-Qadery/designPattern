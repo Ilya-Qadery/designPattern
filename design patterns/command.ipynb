{
 "cells": [
  {
   "metadata": {},
   "cell_type": "markdown",
   "source": [
    "# 🎬 Command Pattern\n",
    "\n",
    "## چرا استفاده می‌شود؟\n",
    "- وقتی نمی‌خوای **Client مستقیم با Receiver (DB/Video Service) صحبت کنه**.\n",
    "- وقتی می‌خوای **درخواست‌ها را ذخیره، صف‌بندی، یا تاخیر بندازی** قبل از اجرا.\n",
    "- وقتی می‌خوای **undo/redo، logging یا retry** راحت باشه.\n",
    "- Command مثل **گرفتن سفارش توسط Waiter** و فرستادنش به Cook عمل می‌کنه، نه اینکه خودت بری آشپزخانه.\n",
    "\n",
    "---\n"
   ],
   "id": "69966ecdbdd958b9"
  },
  {
   "metadata": {},
   "cell_type": "markdown",
   "source": [
    "## مثال واقعی (IRL)\n",
    "فرض کن کاربر روی **Play کلیک می‌کنه**:\n",
    "- Client کلیک را به **Command object** تبدیل می‌کند.\n",
    "- Command object توسط **Invoker (Waiter)** اجرا می‌شود.\n",
    "- **Receiver (Video Service/DB)** واقعی فیلم را استریم می‌کند.\n",
    "- اگر کاربر وسط load چند بار کلیک کرد، **Proxy** می‌تواند درخواست‌ها را کنترل کند و فقط یک stream واقعی شروع شود.\n",
    "\n",
    "---\n"
   ],
   "id": "b15c5697377d8e0d"
  },
  {
   "cell_type": "code",
   "id": "initial_id",
   "metadata": {
    "collapsed": true,
    "ExecuteTime": {
     "end_time": "2025-08-20T06:28:39.495760Z",
     "start_time": "2025-08-20T06:28:39.485593Z"
    }
   },
   "source": [
    "# Receiver: Video Service\n",
    "class VideoService:\n",
    "    def play_video(self, video_name):\n",
    "        print(f\"🎥 Streaming video: {video_name}\")\n",
    "\n",
    "# Command base class\n",
    "class Command:\n",
    "    def execute(self):\n",
    "        raise NotImplementedError\n",
    "\n",
    "# Concrete Command\n",
    "class PlayVideoCommand(Command):\n",
    "    def __init__(self, receiver, video_name):\n",
    "        self.receiver = receiver\n",
    "        self.video_name = video_name\n",
    "\n",
    "    def execute(self):\n",
    "        self.receiver.play_video(self.video_name)\n",
    "\n",
    "# Invoker: Waiter/Handler\n",
    "class VideoInvoker:\n",
    "    def __init__(self):\n",
    "        self._queue = []\n",
    "\n",
    "    def add_command(self, command):\n",
    "        print(\"📝 Command queued\")\n",
    "        self._queue.append(command)\n",
    "\n",
    "    def run(self):\n",
    "        for cmd in self._queue:\n",
    "            cmd.execute()\n",
    "        self._queue.clear()\n",
    "\n",
    "\n",
    "# Client code\n",
    "video_service = VideoService()\n",
    "invoker = VideoInvoker()\n",
    "\n",
    "# User clicks Play multiple times\n",
    "invoker.add_command(PlayVideoCommand(video_service, \"Stranger Things S03E05\"))\n",
    "invoker.add_command(PlayVideoCommand(video_service, \"Stranger Things S03E05\"))\n",
    "invoker.add_command(PlayVideoCommand(video_service, \"Stranger Things S03E05\"))\n",
    "\n",
    "# Execute commands (Invoker decides when)\n",
    "invoker.run()\n"
   ],
   "outputs": [
    {
     "name": "stdout",
     "output_type": "stream",
     "text": [
      "📝 Command queued\n",
      "📝 Command queued\n",
      "📝 Command queued\n",
      "🎥 Streaming video: Stranger Things S03E05\n",
      "🎥 Streaming video: Stranger Things S03E05\n",
      "🎥 Streaming video: Stranger Things S03E05\n"
     ]
    }
   ],
   "execution_count": 1
  }
 ],
 "metadata": {
  "kernelspec": {
   "display_name": "Python 3",
   "language": "python",
   "name": "python3"
  },
  "language_info": {
   "codemirror_mode": {
    "name": "ipython",
    "version": 2
   },
   "file_extension": ".py",
   "mimetype": "text/x-python",
   "name": "python",
   "nbconvert_exporter": "python",
   "pygments_lexer": "ipython2",
   "version": "2.7.6"
  }
 },
 "nbformat": 4,
 "nbformat_minor": 5
}
