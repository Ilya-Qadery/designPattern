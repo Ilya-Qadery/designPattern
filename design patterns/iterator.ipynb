{
 "cells": [
  {
   "metadata": {},
   "cell_type": "markdown",
   "source": [
    "# 🔄 Iterator Pattern\n",
    "\n",
    "## چرا استفاده می‌شود؟\n",
    "- وقتی می‌خوای روی یک مجموعه یا ساختار پیچیده (مثل nested playlists یا درخت فایل‌ها) **یک به یک بگردی**.\n",
    "- وقتی نمی‌خوای **ساختار داخلی مجموعه را افشا کنی**.\n",
    "- وقتی می‌خوای traversal uniform باشه، چه المان ساده باشه و چه المان parent با children.\n",
    "\n",
    "---"
   ],
   "id": "dab0f10d0412883c"
  },
  {
   "metadata": {},
   "cell_type": "markdown",
   "source": [
    "## مثال واقعی (IRL)\n",
    "فرض کن یک **playlist یا مجموعه آهنگ‌ها و زیر-پلی‌لیست‌ها** داری:\n",
    "- کاربر می‌خواهد **همه آهنگ‌ها را ببیند یا پخش کند**.\n",
    "- نمی‌خواهی به client بگی که playlist ممکن است شامل sub-playlists باشد.\n",
    "- با Iterator، client فقط می‌گوید: “Next song please” و همه المان‌ها یک به یک برگردانده می‌شوند.\n",
    "\n",
    "---"
   ],
   "id": "cda1392f55e4536c"
  },
  {
   "cell_type": "code",
   "execution_count": null,
   "id": "initial_id",
   "metadata": {
    "collapsed": true
   },
   "outputs": [],
   "source": [
    "# Composite structure: Playlist and Song\n",
    "class Component:\n",
    "    def play(self):\n",
    "        raise NotImplementedError\n",
    "\n",
    "class Song(Component):\n",
    "    def __init__(self, title):\n",
    "        self.title = title\n",
    "    def play(self):\n",
    "        print(f\"🎵 Playing song: {self.title}\")\n",
    "\n",
    "class Playlist(Component):\n",
    "    def __init__(self, name):\n",
    "        self.name = name\n",
    "        self.children = []\n",
    "\n",
    "    def add(self, component):\n",
    "        self.children.append(component)\n",
    "\n",
    "    def play(self):\n",
    "        print(f\"📂 Playlist: {self.name}\")\n",
    "        for child in self.children:\n",
    "            child.play()\n",
    "\n",
    "# Iterator: traverse all elements recursively\n",
    "class PlaylistIterator:\n",
    "    def __init__(self, component):\n",
    "        self.stack = [component]\n",
    "\n",
    "    def __iter__(self):\n",
    "        return self\n",
    "\n",
    "    def __next__(self):\n",
    "        if not self.stack:\n",
    "            raise StopIteration\n",
    "        current = self.stack.pop(0)\n",
    "        if isinstance(current, Playlist):\n",
    "            self.stack = current.children + self.stack\n",
    "        return current\n",
    "\n",
    "# Build a sample playlist\n",
    "root = Playlist(\"Root Playlist\")\n",
    "root.add(Song(\"Song 1\"))\n",
    "\n",
    "chill = Playlist(\"Chill Vibes\")\n",
    "chill.add(Song(\"Song 2\"))\n",
    "chill.add(Song(\"Song 3\"))\n",
    "\n",
    "root.add(chill)\n",
    "\n"
   ]
  }
 ],
 "metadata": {
  "kernelspec": {
   "display_name": "Python 3",
   "language": "python",
   "name": "python3"
  },
  "language_info": {
   "codemirror_mode": {
    "name": "ipython",
    "version": 2
   },
   "file_extension": ".py",
   "mimetype": "text/x-python",
   "name": "python",
   "nbconvert_exporter": "python",
   "pygments_lexer": "ipython2",
   "version": "2.7.6"
  }
 },
 "nbformat": 4,
 "nbformat_minor": 5
}
