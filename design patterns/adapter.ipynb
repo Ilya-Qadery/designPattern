{
 "cells": [
  {
   "metadata": {},
   "cell_type": "markdown",
   "source": [
    "# 🔌 Adapter Pattern\n",
    "\n",
    "## چرا استفاده می‌شود؟\n",
    "- وقتی دو سیستم یا API **با هم سازگار نیستند** و باید با هم کار کنند.\n",
    "- وقتی نمی‌خوای **کد اصلی یا کلاس‌های موجود رو تغییر بدی**.\n",
    "- Adapter مثل یک **مترجم** بین دو interface است.\n",
    "\n",
    "---\n",
    "\n",
    "## مثال واقعی (IRL)\n",
    "فرض کن یک **اپلیکیشن هوش مصنوعی برای کنترل پنل‌های خورشیدی** داری:\n",
    "- داده‌های **هواشناسی** از سرویس خارجی میاد (مثلاً JSON یا نمودار).\n",
    "- AI توی Python **به داده‌های مرتب و ساختاریافته نیاز دارد**.\n",
    "- Adapter داده‌ها را به فرمتی تبدیل می‌کنه که سیستم تو بتونه راحت استفاده کنه.\n",
    "\n",
    "---\n"
   ],
   "id": "ebb13bd902851ccb"
  },
  {
   "cell_type": "code",
   "execution_count": null,
   "id": "initial_id",
   "metadata": {
    "collapsed": true
   },
   "outputs": [],
   "source": [
    "# 🧩 Python Example: Adapter Pattern\n",
    "\n",
    "# Adaptee: Weather data source (مثلاً JSON از API)\n",
    "class WeatherAPI:\n",
    "    def get_forecast(self):\n",
    "        # returns raw data (dictionary)\n",
    "        return {\"day1\": {\"rain\": 0.2}, \"day2\": {\"rain\": 0.0}}\n",
    "\n",
    "# Target interface: آنچه AI انتظار دارد\n",
    "class WeatherData:\n",
    "    def get_rain_chance(self, day):\n",
    "        pass\n",
    "\n",
    "# Adapter\n",
    "class WeatherAdapter(WeatherData):\n",
    "    def __init__(self, api):\n",
    "        self.api = api\n",
    "        self.data = self.api.get_forecast()\n",
    "\n",
    "    def get_rain_chance(self, day):\n",
    "        return self.data.get(day, {}).get(\"rain\", 0.0)\n",
    "\n",
    "# Usage\n",
    "api = WeatherAPI()\n",
    "adapter = WeatherAdapter(api)\n",
    "\n",
    "print(\"Rain chance day1:\", adapter.get_rain_chance(\"day1\"))  # 0.2\n",
    "print(\"Rain chance day2:\", adapter.get_rain_chance(\"day2\"))  # 0.0\n"
   ]
  }
 ],
 "metadata": {
  "kernelspec": {
   "display_name": "Python 3",
   "language": "python",
   "name": "python3"
  },
  "language_info": {
   "codemirror_mode": {
    "name": "ipython",
    "version": 2
   },
   "file_extension": ".py",
   "mimetype": "text/x-python",
   "name": "python",
   "nbconvert_exporter": "python",
   "pygments_lexer": "ipython2",
   "version": "2.7.6"
  }
 },
 "nbformat": 4,
 "nbformat_minor": 5
}
