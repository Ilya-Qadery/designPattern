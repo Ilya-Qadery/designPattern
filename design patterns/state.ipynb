{
 "cells": [
  {
   "metadata": {},
   "cell_type": "markdown",
   "source": [
    "# 🎭 State Pattern\n",
    "\n",
    "## چرا استفاده می‌شود؟\n",
    "- وقتی رفتار یک شیء باید **بسته به وضعیتش تغییر کند**.\n",
    "- هر وضعیت = یک **Handler جداگانه** که وظیفه خودش را انجام می‌دهد.\n",
    "- شیء اصلی فقط **Handler فعلی را صدا می‌زند** و کاری به جزئیات ندارد.\n",
    "\n",
    "---"
   ],
   "id": "ce4d9a86eed76e78"
  },
  {
   "metadata": {},
   "cell_type": "markdown",
   "source": [
    "## مثال واقعی (IRL)\n",
    "فرض کن یک **ویدئو پلیر** داری:\n",
    "- پلیر می‌تواند در حالت‌های `Playing`, `Paused`, `Stopped` باشد.\n",
    "- رفتار دکمه‌ها و عملکرد پلیر بسته به وضعیت فعلی تغییر می‌کند.\n",
    "- هر حالت یک **Handler برای آن وضعیت** است.\n",
    "\n",
    "---"
   ],
   "id": "93179ca82aefd895"
  },
  {
   "cell_type": "code",
   "id": "initial_id",
   "metadata": {
    "collapsed": true,
    "ExecuteTime": {
     "end_time": "2025-08-20T08:21:43.372233Z",
     "start_time": "2025-08-20T08:21:43.362158Z"
    }
   },
   "source": [
    "# Handlers for each state\n",
    "class PlayingHandler:\n",
    "    def press_play(self, player):\n",
    "        print(\"⏸ Pausing video...\")\n",
    "        player.state = player.paused\n",
    "\n",
    "    def press_stop(self, player):\n",
    "        print(\"⏹ Stopping video...\")\n",
    "        player.state = player.stopped\n",
    "\n",
    "class PausedHandler:\n",
    "    def press_play(self, player):\n",
    "        print(\"▶️ Resuming video...\")\n",
    "        player.state = player.playing\n",
    "\n",
    "    def press_stop(self, player):\n",
    "        print(\"⏹ Stopping video...\")\n",
    "        player.state = player.stopped\n",
    "\n",
    "class StoppedHandler:\n",
    "    def press_play(self, player):\n",
    "        print(\"▶️ Starting video...\")\n",
    "        player.state = player.playing\n",
    "\n",
    "    def press_stop(self, player):\n",
    "        print(\"Video already stopped.\")\n",
    "\n",
    "# Main object delegates to current Handler\n",
    "class VideoPlayer:\n",
    "    def __init__(self):\n",
    "        self.playing = PlayingHandler()\n",
    "        self.paused = PausedHandler()\n",
    "        self.stopped = StoppedHandler()\n",
    "        self.state = self.stopped  # initial state\n",
    "\n",
    "    def press_play(self):\n",
    "        self.state.press_play(self)\n",
    "\n",
    "    def press_stop(self):\n",
    "        self.state.press_stop(self)\n",
    "\n",
    "\n",
    "# Client code\n",
    "player = VideoPlayer()\n",
    "\n",
    "player.press_play()   # Starting video\n",
    "player.press_play()   # Resuming video\n",
    "player.press_stop()   # Stopping video\n",
    "player.press_stop()   # Already stopped\n"
   ],
   "outputs": [
    {
     "name": "stdout",
     "output_type": "stream",
     "text": [
      "▶️ Starting video...\n",
      "⏸ Pausing video...\n",
      "⏹ Stopping video...\n",
      "Video already stopped.\n"
     ]
    }
   ],
   "execution_count": 1
  }
 ],
 "metadata": {
  "kernelspec": {
   "display_name": "Python 3",
   "language": "python",
   "name": "python3"
  },
  "language_info": {
   "codemirror_mode": {
    "name": "ipython",
    "version": 2
   },
   "file_extension": ".py",
   "mimetype": "text/x-python",
   "name": "python",
   "nbconvert_exporter": "python",
   "pygments_lexer": "ipython2",
   "version": "2.7.6"
  }
 },
 "nbformat": 4,
 "nbformat_minor": 5
}
