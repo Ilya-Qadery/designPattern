{
 "cells": [
  {
   "metadata": {},
   "cell_type": "markdown",
   "source": [
    "# 💾 Memento Pattern\n",
    "\n",
    "## چرا استفاده می‌شود؟\n",
    "- وقتی می‌خوای وضعیت یک شیء را **ذخیره و بعدا بازگردانی** کنی.\n",
    "- وقتی نمی‌خوای **جزئیات داخلی شیء را افشا کنی**.\n",
    "- پایه Undo/Redo، Ctrl+Z و Save/Restore سیستم‌هاست.\n"
   ],
   "id": "cf0e6b2be30ad02d"
  },
  {
   "metadata": {},
   "cell_type": "markdown",
   "source": [
    "## مثال واقعی (IRL)\n",
    "مثل یک **متن‌ویرایشگر**:\n",
    "- کاربر دارد متن می‌نویسد.\n",
    "- Ctrl+Z وضعیت متن قبلی را بازمی‌گرداند.\n",
    "- هر snapshot از متن یک **Memento** است.\n",
    "- Undo stack به عنوان **Caretaker** نگهداری می‌شود.\n",
    "\n",
    "\n",
    "---"
   ],
   "id": "66aceb7425b3a64e"
  },
  {
   "metadata": {},
   "cell_type": "code",
   "outputs": [],
   "execution_count": null,
   "source": [
    "# Originator\n",
    "class TextEditor:\n",
    "    def __init__(self):\n",
    "        self.content = \"\"\n",
    "\n",
    "    def write(self, text):\n",
    "        self.content += text\n",
    "\n",
    "    def create_memento(self):\n",
    "        return Memento(self.content)\n",
    "\n",
    "    def restore(self, memento):\n",
    "        self.content = memento.get_state()\n",
    "\n",
    "    def show(self):\n",
    "        print(f\"Content: {self.content}\")\n",
    "\n",
    "\n",
    "# Memento\n",
    "class Memento:\n",
    "    def __init__(self, state):\n",
    "        self._state = state\n",
    "\n",
    "    def get_state(self):\n",
    "        return self._state\n",
    "\n",
    "\n",
    "# Caretaker\n",
    "class History:\n",
    "    def __init__(self):\n",
    "        self._history = []\n",
    "\n",
    "    def push(self, memento):\n",
    "        self._history.append(memento)\n",
    "\n",
    "    def pop(self):\n",
    "        if not self._history:\n",
    "            return None\n",
    "        return self._history.pop()\n",
    "\n",
    "\n",
    "# Client code\n",
    "editor = TextEditor()\n",
    "history = History()\n",
    "\n",
    "# User writes some text\n",
    "editor.write(\"Hello \")\n",
    "history.push(editor.create_memento())\n",
    "\n",
    "editor.write(\"World!\")\n",
    "history.push(editor.create_memento())\n",
    "\n",
    "editor.show()  # Content: Hello World!\n",
    "\n",
    "# Undo last change\n",
    "editor.restore(history.pop())\n",
    "editor.show()  # Content: Hello\n",
    "\n",
    "# Undo again\n",
    "editor.restore(history.pop())\n",
    "editor.show()  # Content:\n"
   ],
   "id": "de80f10f218d34e3"
  }
 ],
 "metadata": {
  "kernelspec": {
   "display_name": "Python 3",
   "language": "python",
   "name": "python3"
  },
  "language_info": {
   "codemirror_mode": {
    "name": "ipython",
    "version": 2
   },
   "file_extension": ".py",
   "mimetype": "text/x-python",
   "name": "python",
   "nbconvert_exporter": "python",
   "pygments_lexer": "ipython2",
   "version": "2.7.6"
  }
 },
 "nbformat": 4,
 "nbformat_minor": 5
}
