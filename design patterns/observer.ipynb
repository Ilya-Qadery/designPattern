{
 "cells": [
  {
   "metadata": {},
   "cell_type": "markdown",
   "source": [
    "# 👀 Observer Pattern\n",
    "\n",
    "## چرا استفاده می‌شود؟\n",
    "- وقتی یک شیء (Subject) تغییر می‌کند و می‌خوای چندین شیء دیگر (Observers) از این تغییر مطلع شوند.\n",
    "- وقتی نمی‌خوای Subject مستقیماً به هر Observer وابسته باشد.\n",
    "- برای مثال **سیستم‌های نوتیفیکیشن، خبرنامه‌ها، یا تغییرات وضعیت UI**.\n",
    "\n",
    "---\n"
   ],
   "id": "c23eb56c7c1270a2"
  },
  {
   "metadata": {},
   "cell_type": "markdown",
   "source": [
    "## مثال واقعی (IRL)\n",
    "فرض کن یک فروشگاه آنلاین داری:\n",
    "- مشتری‌ها می‌توانند به “باشگاه مشتریان” بپیوندند.\n",
    "- وقتی محصول جدید یا تخفیف می‌آید، فقط کسانی که عضو هستند **اطلاع داده می‌شوند**.\n",
    "- Publisher (فروشگاه) تغییر را ثبت می‌کند و Observerها (مشتریان عضو) را مطلع می‌کند.\n",
    "- این باعث می‌شود نوتیفیکیشن برای همه مشتریان ارسال نشود و اسپم نباشد.\n",
    "\n",
    "---"
   ],
   "id": "6cd773fe0fcc3290"
  },
  {
   "cell_type": "code",
   "execution_count": null,
   "id": "initial_id",
   "metadata": {
    "collapsed": true
   },
   "outputs": [],
   "source": [
    "# Subject / Publisher\n",
    "class ProductPublisher:\n",
    "    def __init__(self):\n",
    "        self.subscribers = []\n",
    "        self.new_product = None\n",
    "\n",
    "    def subscribe(self, subscriber):\n",
    "        self.subscribers.append(subscriber)\n",
    "\n",
    "    def unsubscribe(self, subscriber):\n",
    "        self.subscribers.remove(subscriber)\n",
    "\n",
    "    def add_new_product(self, product):\n",
    "        self.new_product = product\n",
    "        self.notify()\n",
    "\n",
    "    def notify(self):\n",
    "        for sub in self.subscribers:\n",
    "            sub.update(self.new_product)\n",
    "\n",
    "\n",
    "# Observer / Subscriber\n",
    "class Customer:\n",
    "    def __init__(self, name):\n",
    "        self.name = name\n",
    "\n",
    "    def update(self, product):\n",
    "        print(f\"🔔 {self.name} notified about new product: {product}\")\n",
    "\n",
    "\n",
    "# Client code\n",
    "publisher = ProductPublisher()\n",
    "\n",
    "alice = Customer(\"Alice\")\n",
    "bob = Customer(\"Bob\")\n",
    "charlie = Customer(\"Charlie\")\n",
    "\n",
    "# Register subscribers\n",
    "publisher.subscribe(alice)\n",
    "publisher.subscribe(bob)\n",
    "\n",
    "# Add new product → only subscribers notified\n",
    "publisher.add_new_product(\"Summer T-Shirt\")\n",
    "\n",
    "# Charlie subscribes later\n",
    "publisher.subscribe(charlie)\n",
    "publisher.add_new_product(\"Winter Jacket\")\n"
   ]
  }
 ],
 "metadata": {
  "kernelspec": {
   "display_name": "Python 3",
   "language": "python",
   "name": "python3"
  },
  "language_info": {
   "codemirror_mode": {
    "name": "ipython",
    "version": 2
   },
   "file_extension": ".py",
   "mimetype": "text/x-python",
   "name": "python",
   "nbconvert_exporter": "python",
   "pygments_lexer": "ipython2",
   "version": "2.7.6"
  }
 },
 "nbformat": 4,
 "nbformat_minor": 5
}
